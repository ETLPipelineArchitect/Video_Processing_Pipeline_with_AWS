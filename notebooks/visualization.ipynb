{
    "cells": [
        {
            "cell_type": "markdown",
            "metadata": {},
            "source": [
                "# Video Data Visualization\n",
                "Visualizing the results from the video data processing."
            ]
        },
        {
            "cell_type": "code",
            "execution_count": 1,
            "metadata": {},
            "outputs": [],
            "source": [
                "import pandas as pd\n",
                "import matplotlib.pyplot as plt\n",
                "import seaborn as sns\n",
                "\n",
                "# Load Data from S3 (Assuming data is downloaded locally)\n",
                "common_labels = pd.read_csv('data/common_labels.csv')\n",
                "\n",
                "# Plot Common Labels\n",
                "plt.figure(figsize=(12, 6))\n",
                "sns.barplot(data=common_labels, x='label', y='count', palette='viridis')\n",
                "plt.title('Top 10 Most Common Detected Objects in Videos')\n",
                "plt.xlabel('Object Label')\n",
                "plt.ylabel('Count')\n",
                "plt.xticks(rotation=45)\n",
                "plt.show()"
            ]
        }
    ],
    "metadata": {
        "kernelspec": {
            "display_name": "Python 3",
            "language": "python",
            "name": "python3"
        },
        "language_info": {
            "name": "python",
            "version": "3.8.5",
            "mimetype": "text/x-python",
            "codemirror_mode": {
                "name": "ipython",
                "version": 3
            },
            "pygments_lexer": "ipython3",
            "nbconvert_exporter": "python",
            "file_extension": ".py"
        }
    },
    "nbformat": 4,
    "nbformat_minor": 5
}